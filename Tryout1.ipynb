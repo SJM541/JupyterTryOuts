{
 "cells": [
  {
   "cell_type": "markdown",
   "metadata": {},
   "source": [
    "# Notebook with Python3 Code embeded\n",
    "#### (Tryout1)\n"
   ]
  },
  {
   "cell_type": "code",
   "execution_count": 1,
   "metadata": {},
   "outputs": [
    {
     "name": "stdout",
     "output_type": "stream",
     "text": [
      "Hello from Python\n"
     ]
    }
   ],
   "source": [
    "print(\"Hello from Python\")\n"
   ]
  },
  {
   "cell_type": "markdown",
   "metadata": {},
   "source": [
    "## Soil CEC Data\n",
    "Below is CEC data retrieved from SoilGrids API, for a specified location (lat,lon)\n",
    "\n"
   ]
  },
  {
   "cell_type": "code",
   "execution_count": 2,
   "metadata": {},
   "outputs": [
    {
     "name": "stdout",
     "output_type": "stream",
     "text": [
      " CEC at 10cm: 27 \n",
      "\n"
     ]
    }
   ],
   "source": [
    "# Retrieve CEC data for a specified lat,lon, from SoilGrids\n",
    "\n",
    "import sys\n",
    "import requests\n",
    "from pprint import pprint\n",
    "from datetime import datetime, timedelta\n",
    "\n",
    "\n",
    "def retrieveSoilGridsData(latitude,longitude):\n",
    "\n",
    "    domain = \"rest.soilgrids.org\"\n",
    "    route = \"query\"\n",
    "    url = \"https://%s/%s\" % (domain,route)\n",
    "\n",
    "    # Specify organic carbon and CEC only in response\n",
    "    #soilProperties = \"ORCDRC,CEC\"\n",
    "    #payload = {\"lat\" : latitude, \"lon\" : longitude, \"attributes\" : soilProperties }\n",
    "\n",
    "    payload = {\"lat\" : latitude, \"lon\" : longitude}\n",
    "\n",
    "    try:\n",
    "        response = requests.get(url, params = payload)\n",
    "\n",
    "    except requests.exceptions.ConnectionError as e:\n",
    "        print(\"Something wrong calling SoilGrids for soil data \\n\")\n",
    "        print (e)\n",
    "        sys.exit(1)\n",
    "\n",
    "    return(response.json())\n",
    "\n",
    "\n",
    "def soilData(latitude,longitude):\n",
    "    \n",
    "    # Get soil data\n",
    "    # Return just CEC at 0.1m for now\n",
    "    # \n",
    "    # - will extend to return a DataFrame of all required soil data when known\n",
    "\n",
    "    SoilGridsResponse = retrieveSoilGridsData(latitude,longitude)    \n",
    "    #pprint(SoilGridsResponse)\n",
    "\n",
    "    # Parse out CEC at 0.1m (sl2)\n",
    "    CEC_10 = SoilGridsResponse['properties']['CECSOL']['M']['sl2']\n",
    "    CEC_units = SoilGridsResponse['properties']['CECSOL']['units_of_measure']\n",
    "    # print (\" \\n CEC at 0.1m: %s %s\" % (CEC_10, CEC_units))\n",
    "    return CEC_10\n",
    "            \n",
    "def main():\n",
    "\n",
    "    # Setup\n",
    "    #latitude = \"-0.453718\"      # Nyeri, Kenya\n",
    "    #longitude = \"36.951524\"\n",
    "    \n",
    "    latitude = \"51.397877\"      # My back garden, Kintbury\n",
    "    longitude = \"-1.440128\"\n",
    "    \n",
    "    # Get Soil Data\n",
    "    CEC = soilData(latitude,longitude)\n",
    "    print(' CEC at 10cm: %s \\n' % CEC)\n",
    "    \n",
    "    \n",
    "if __name__ == \"__main__\":\n",
    "    main()\n",
    "    "
   ]
  }
 ],
 "metadata": {
  "kernelspec": {
   "display_name": "Python 3",
   "language": "python",
   "name": "python3"
  },
  "language_info": {
   "codemirror_mode": {
    "name": "ipython",
    "version": 3
   },
   "file_extension": ".py",
   "mimetype": "text/x-python",
   "name": "python",
   "nbconvert_exporter": "python",
   "pygments_lexer": "ipython3",
   "version": "3.6.2"
  }
 },
 "nbformat": 4,
 "nbformat_minor": 2
}
